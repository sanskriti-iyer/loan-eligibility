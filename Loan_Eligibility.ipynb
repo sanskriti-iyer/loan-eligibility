{
  "nbformat": 4,
  "nbformat_minor": 5,
  "metadata": {
    "kernelspec": {
      "display_name": "Python 3",
      "language": "python",
      "name": "python3"
    },
    "language_info": {
      "codemirror_mode": {
        "name": "ipython",
        "version": 3
      },
      "file_extension": ".py",
      "mimetype": "text/x-python",
      "name": "python",
      "nbconvert_exporter": "python",
      "pygments_lexer": "ipython3",
      "version": "3.8.8"
    },
    "colab": {
      "provenance": [],
      "include_colab_link": true
    }
  },
  "cells": [
    {
      "cell_type": "markdown",
      "metadata": {
        "id": "view-in-github",
        "colab_type": "text"
      },
      "source": [
        "<a href=\"https://colab.research.google.com/github/sanskriti-iyer/loan-eligibility/blob/main/Loan_Eligibility.ipynb\" target=\"_parent\"><img src=\"https://colab.research.google.com/assets/colab-badge.svg\" alt=\"Open In Colab\"/></a>"
      ]
    },
    {
      "cell_type": "markdown",
      "metadata": {
        "id": "274c9b7b"
      },
      "source": [
        "**LOAN ELIGIBILITY**"
      ],
      "id": "274c9b7b"
    },
    {
      "cell_type": "code",
      "metadata": {
        "id": "92465536"
      },
      "source": [
        "import pandas as pd\n",
        "import matplotlib.pyplot as plt\n",
        "import numpy as np\n",
        "import seaborn as sns\n",
        "import warnings\n",
        "import math\n",
        "import pickle\n",
        "warnings.filterwarnings('ignore')\n",
        "%matplotlib inline"
      ],
      "id": "92465536",
      "execution_count": null,
      "outputs": []
    },
    {
      "cell_type": "code",
      "metadata": {
        "colab": {
          "base_uri": "https://localhost:8080/",
          "height": 335
        },
        "id": "27345916",
        "outputId": "46b5eb66-b9dc-46e6-c4c8-bef0d9c97804"
      },
      "source": [
        "test_file = pd.read_csv('Testing Data.csv')\n",
        "train_file = pd.read_csv('Training Data.csv')\n",
        "train_file.head()"
      ],
      "id": "27345916",
      "execution_count": null,
      "outputs": [
        {
          "output_type": "error",
          "ename": "FileNotFoundError",
          "evalue": "[Errno 2] No such file or directory: 'Testing Data.csv'",
          "traceback": [
            "\u001b[0;31m---------------------------------------------------------------------------\u001b[0m",
            "\u001b[0;31mFileNotFoundError\u001b[0m                         Traceback (most recent call last)",
            "\u001b[0;32m<ipython-input-2-1707a5bae313>\u001b[0m in \u001b[0;36m<cell line: 1>\u001b[0;34m()\u001b[0m\n\u001b[0;32m----> 1\u001b[0;31m \u001b[0mtest_file\u001b[0m \u001b[0;34m=\u001b[0m \u001b[0mpd\u001b[0m\u001b[0;34m.\u001b[0m\u001b[0mread_csv\u001b[0m\u001b[0;34m(\u001b[0m\u001b[0;34m'Testing Data.csv'\u001b[0m\u001b[0;34m)\u001b[0m\u001b[0;34m\u001b[0m\u001b[0;34m\u001b[0m\u001b[0m\n\u001b[0m\u001b[1;32m      2\u001b[0m \u001b[0mtrain_file\u001b[0m \u001b[0;34m=\u001b[0m \u001b[0mpd\u001b[0m\u001b[0;34m.\u001b[0m\u001b[0mread_csv\u001b[0m\u001b[0;34m(\u001b[0m\u001b[0;34m'Training Data.csv'\u001b[0m\u001b[0;34m)\u001b[0m\u001b[0;34m\u001b[0m\u001b[0;34m\u001b[0m\u001b[0m\n\u001b[1;32m      3\u001b[0m \u001b[0mtrain_file\u001b[0m\u001b[0;34m.\u001b[0m\u001b[0mhead\u001b[0m\u001b[0;34m(\u001b[0m\u001b[0;34m)\u001b[0m\u001b[0;34m\u001b[0m\u001b[0;34m\u001b[0m\u001b[0m\n",
            "\u001b[0;32m/usr/local/lib/python3.10/dist-packages/pandas/io/parsers/readers.py\u001b[0m in \u001b[0;36mread_csv\u001b[0;34m(filepath_or_buffer, sep, delimiter, header, names, index_col, usecols, dtype, engine, converters, true_values, false_values, skipinitialspace, skiprows, skipfooter, nrows, na_values, keep_default_na, na_filter, verbose, skip_blank_lines, parse_dates, infer_datetime_format, keep_date_col, date_parser, date_format, dayfirst, cache_dates, iterator, chunksize, compression, thousands, decimal, lineterminator, quotechar, quoting, doublequote, escapechar, comment, encoding, encoding_errors, dialect, on_bad_lines, delim_whitespace, low_memory, memory_map, float_precision, storage_options, dtype_backend)\u001b[0m\n\u001b[1;32m   1024\u001b[0m     \u001b[0mkwds\u001b[0m\u001b[0;34m.\u001b[0m\u001b[0mupdate\u001b[0m\u001b[0;34m(\u001b[0m\u001b[0mkwds_defaults\u001b[0m\u001b[0;34m)\u001b[0m\u001b[0;34m\u001b[0m\u001b[0;34m\u001b[0m\u001b[0m\n\u001b[1;32m   1025\u001b[0m \u001b[0;34m\u001b[0m\u001b[0m\n\u001b[0;32m-> 1026\u001b[0;31m     \u001b[0;32mreturn\u001b[0m \u001b[0m_read\u001b[0m\u001b[0;34m(\u001b[0m\u001b[0mfilepath_or_buffer\u001b[0m\u001b[0;34m,\u001b[0m \u001b[0mkwds\u001b[0m\u001b[0;34m)\u001b[0m\u001b[0;34m\u001b[0m\u001b[0;34m\u001b[0m\u001b[0m\n\u001b[0m\u001b[1;32m   1027\u001b[0m \u001b[0;34m\u001b[0m\u001b[0m\n\u001b[1;32m   1028\u001b[0m \u001b[0;34m\u001b[0m\u001b[0m\n",
            "\u001b[0;32m/usr/local/lib/python3.10/dist-packages/pandas/io/parsers/readers.py\u001b[0m in \u001b[0;36m_read\u001b[0;34m(filepath_or_buffer, kwds)\u001b[0m\n\u001b[1;32m    618\u001b[0m \u001b[0;34m\u001b[0m\u001b[0m\n\u001b[1;32m    619\u001b[0m     \u001b[0;31m# Create the parser.\u001b[0m\u001b[0;34m\u001b[0m\u001b[0;34m\u001b[0m\u001b[0m\n\u001b[0;32m--> 620\u001b[0;31m     \u001b[0mparser\u001b[0m \u001b[0;34m=\u001b[0m \u001b[0mTextFileReader\u001b[0m\u001b[0;34m(\u001b[0m\u001b[0mfilepath_or_buffer\u001b[0m\u001b[0;34m,\u001b[0m \u001b[0;34m**\u001b[0m\u001b[0mkwds\u001b[0m\u001b[0;34m)\u001b[0m\u001b[0;34m\u001b[0m\u001b[0;34m\u001b[0m\u001b[0m\n\u001b[0m\u001b[1;32m    621\u001b[0m \u001b[0;34m\u001b[0m\u001b[0m\n\u001b[1;32m    622\u001b[0m     \u001b[0;32mif\u001b[0m \u001b[0mchunksize\u001b[0m \u001b[0;32mor\u001b[0m \u001b[0miterator\u001b[0m\u001b[0;34m:\u001b[0m\u001b[0;34m\u001b[0m\u001b[0;34m\u001b[0m\u001b[0m\n",
            "\u001b[0;32m/usr/local/lib/python3.10/dist-packages/pandas/io/parsers/readers.py\u001b[0m in \u001b[0;36m__init__\u001b[0;34m(self, f, engine, **kwds)\u001b[0m\n\u001b[1;32m   1618\u001b[0m \u001b[0;34m\u001b[0m\u001b[0m\n\u001b[1;32m   1619\u001b[0m         \u001b[0mself\u001b[0m\u001b[0;34m.\u001b[0m\u001b[0mhandles\u001b[0m\u001b[0;34m:\u001b[0m \u001b[0mIOHandles\u001b[0m \u001b[0;34m|\u001b[0m \u001b[0;32mNone\u001b[0m \u001b[0;34m=\u001b[0m \u001b[0;32mNone\u001b[0m\u001b[0;34m\u001b[0m\u001b[0;34m\u001b[0m\u001b[0m\n\u001b[0;32m-> 1620\u001b[0;31m         \u001b[0mself\u001b[0m\u001b[0;34m.\u001b[0m\u001b[0m_engine\u001b[0m \u001b[0;34m=\u001b[0m \u001b[0mself\u001b[0m\u001b[0;34m.\u001b[0m\u001b[0m_make_engine\u001b[0m\u001b[0;34m(\u001b[0m\u001b[0mf\u001b[0m\u001b[0;34m,\u001b[0m \u001b[0mself\u001b[0m\u001b[0;34m.\u001b[0m\u001b[0mengine\u001b[0m\u001b[0;34m)\u001b[0m\u001b[0;34m\u001b[0m\u001b[0;34m\u001b[0m\u001b[0m\n\u001b[0m\u001b[1;32m   1621\u001b[0m \u001b[0;34m\u001b[0m\u001b[0m\n\u001b[1;32m   1622\u001b[0m     \u001b[0;32mdef\u001b[0m \u001b[0mclose\u001b[0m\u001b[0;34m(\u001b[0m\u001b[0mself\u001b[0m\u001b[0;34m)\u001b[0m \u001b[0;34m->\u001b[0m \u001b[0;32mNone\u001b[0m\u001b[0;34m:\u001b[0m\u001b[0;34m\u001b[0m\u001b[0;34m\u001b[0m\u001b[0m\n",
            "\u001b[0;32m/usr/local/lib/python3.10/dist-packages/pandas/io/parsers/readers.py\u001b[0m in \u001b[0;36m_make_engine\u001b[0;34m(self, f, engine)\u001b[0m\n\u001b[1;32m   1878\u001b[0m                 \u001b[0;32mif\u001b[0m \u001b[0;34m\"b\"\u001b[0m \u001b[0;32mnot\u001b[0m \u001b[0;32min\u001b[0m \u001b[0mmode\u001b[0m\u001b[0;34m:\u001b[0m\u001b[0;34m\u001b[0m\u001b[0;34m\u001b[0m\u001b[0m\n\u001b[1;32m   1879\u001b[0m                     \u001b[0mmode\u001b[0m \u001b[0;34m+=\u001b[0m \u001b[0;34m\"b\"\u001b[0m\u001b[0;34m\u001b[0m\u001b[0;34m\u001b[0m\u001b[0m\n\u001b[0;32m-> 1880\u001b[0;31m             self.handles = get_handle(\n\u001b[0m\u001b[1;32m   1881\u001b[0m                 \u001b[0mf\u001b[0m\u001b[0;34m,\u001b[0m\u001b[0;34m\u001b[0m\u001b[0;34m\u001b[0m\u001b[0m\n\u001b[1;32m   1882\u001b[0m                 \u001b[0mmode\u001b[0m\u001b[0;34m,\u001b[0m\u001b[0;34m\u001b[0m\u001b[0;34m\u001b[0m\u001b[0m\n",
            "\u001b[0;32m/usr/local/lib/python3.10/dist-packages/pandas/io/common.py\u001b[0m in \u001b[0;36mget_handle\u001b[0;34m(path_or_buf, mode, encoding, compression, memory_map, is_text, errors, storage_options)\u001b[0m\n\u001b[1;32m    871\u001b[0m         \u001b[0;32mif\u001b[0m \u001b[0mioargs\u001b[0m\u001b[0;34m.\u001b[0m\u001b[0mencoding\u001b[0m \u001b[0;32mand\u001b[0m \u001b[0;34m\"b\"\u001b[0m \u001b[0;32mnot\u001b[0m \u001b[0;32min\u001b[0m \u001b[0mioargs\u001b[0m\u001b[0;34m.\u001b[0m\u001b[0mmode\u001b[0m\u001b[0;34m:\u001b[0m\u001b[0;34m\u001b[0m\u001b[0;34m\u001b[0m\u001b[0m\n\u001b[1;32m    872\u001b[0m             \u001b[0;31m# Encoding\u001b[0m\u001b[0;34m\u001b[0m\u001b[0;34m\u001b[0m\u001b[0m\n\u001b[0;32m--> 873\u001b[0;31m             handle = open(\n\u001b[0m\u001b[1;32m    874\u001b[0m                 \u001b[0mhandle\u001b[0m\u001b[0;34m,\u001b[0m\u001b[0;34m\u001b[0m\u001b[0;34m\u001b[0m\u001b[0m\n\u001b[1;32m    875\u001b[0m                 \u001b[0mioargs\u001b[0m\u001b[0;34m.\u001b[0m\u001b[0mmode\u001b[0m\u001b[0;34m,\u001b[0m\u001b[0;34m\u001b[0m\u001b[0;34m\u001b[0m\u001b[0m\n",
            "\u001b[0;31mFileNotFoundError\u001b[0m: [Errno 2] No such file or directory: 'Testing Data.csv'"
          ]
        }
      ]
    },
    {
      "cell_type": "code",
      "metadata": {
        "id": "49a18d7b"
      },
      "source": [
        "test_file.head()"
      ],
      "id": "49a18d7b",
      "execution_count": null,
      "outputs": []
    },
    {
      "cell_type": "code",
      "metadata": {
        "id": "9a019dd3"
      },
      "source": [
        "#to prevent loss of data in original file we create a copy\n",
        "train_set_og = train_file.copy()\n",
        "test_set_og = test_file.copy()"
      ],
      "id": "9a019dd3",
      "execution_count": null,
      "outputs": []
    },
    {
      "cell_type": "code",
      "metadata": {
        "id": "1591480b"
      },
      "source": [
        "train_file.describe()"
      ],
      "id": "1591480b",
      "execution_count": null,
      "outputs": []
    },
    {
      "cell_type": "markdown",
      "metadata": {
        "id": "38069d34"
      },
      "source": [
        "# 1. Filling in the null values"
      ],
      "id": "38069d34"
    },
    {
      "cell_type": "code",
      "metadata": {
        "id": "31fda8f3"
      },
      "source": [
        "#our next step will be to find the missing values in training data set\n",
        "train_file.isnull().sum()"
      ],
      "id": "31fda8f3",
      "execution_count": null,
      "outputs": []
    },
    {
      "cell_type": "code",
      "metadata": {
        "id": "a94a0fd6"
      },
      "source": [
        "#we need to fill the null values with either common terms or the mean values (for numbers)\n",
        "#for numerical columns we will be adding mean values to the null\n",
        "train_file['LoanAmount'] = train_file['LoanAmount'].fillna(train_file['LoanAmount'].mean())\n",
        "train_file['Loan_Amount_Term'] = train_file['Loan_Amount_Term'].fillna(train_file['Loan_Amount_Term'].mean())\n",
        "train_file['Credit_History'] = train_file['Credit_History'].fillna(train_file['Credit_History'].mean())"
      ],
      "id": "a94a0fd6",
      "execution_count": null,
      "outputs": []
    },
    {
      "cell_type": "code",
      "metadata": {
        "id": "35c385d1"
      },
      "source": [
        "#as we can see here all the numerical columns do not have any null values\n",
        "train_file.isnull().sum()"
      ],
      "id": "35c385d1",
      "execution_count": null,
      "outputs": []
    },
    {
      "cell_type": "code",
      "metadata": {
        "id": "495defad"
      },
      "source": [
        "#now we have to replace null values in categorical columns with the common terms that is mode\n",
        "train_file['Gender'] = train_file['Gender'].fillna(train_file['Gender'].mode()[0])\n",
        "train_file['Dependents'] = train_file['Dependents'].fillna(train_file['Dependents'].mode()[0])\n",
        "train_file['Self_Employed'] = train_file['Self_Employed'].fillna(train_file['Self_Employed'].mode()[0])\n",
        "train_file['Married'] = train_file['Married'].fillna(train_file['Married'].mode()[0])"
      ],
      "id": "495defad",
      "execution_count": null,
      "outputs": []
    },
    {
      "cell_type": "code",
      "metadata": {
        "id": "bc9784ba"
      },
      "source": [
        "train_file.isnull().sum()"
      ],
      "id": "bc9784ba",
      "execution_count": null,
      "outputs": []
    },
    {
      "cell_type": "markdown",
      "metadata": {
        "id": "de9191e0"
      },
      "source": [
        "# 2. Data Visualization"
      ],
      "id": "de9191e0"
    },
    {
      "cell_type": "code",
      "metadata": {
        "id": "753577f2"
      },
      "source": [
        "#we'll be chekcing categorical first"
      ],
      "id": "753577f2",
      "execution_count": null,
      "outputs": []
    },
    {
      "cell_type": "code",
      "metadata": {
        "id": "7a99adfd"
      },
      "source": [
        "sns.countplot(train_file['Gender'])"
      ],
      "id": "7a99adfd",
      "execution_count": null,
      "outputs": []
    },
    {
      "cell_type": "markdown",
      "metadata": {
        "id": "87058baa"
      },
      "source": [
        "_To check male:female_"
      ],
      "id": "87058baa"
    },
    {
      "cell_type": "code",
      "metadata": {
        "id": "e7e3beb4"
      },
      "source": [
        "train_file['Gender'].value_counts()"
      ],
      "id": "e7e3beb4",
      "execution_count": null,
      "outputs": []
    },
    {
      "cell_type": "raw",
      "metadata": {
        "id": "3da83ced"
      },
      "source": [
        "#ratio of male to female is 4.4821 (im not sure how to make a ratio in python of only one columns :("
      ],
      "id": "3da83ced"
    },
    {
      "cell_type": "code",
      "metadata": {
        "scrolled": true,
        "id": "5b59a67f"
      },
      "source": [
        "sns.countplot(train_file['Married'])"
      ],
      "id": "5b59a67f",
      "execution_count": null,
      "outputs": []
    },
    {
      "cell_type": "markdown",
      "metadata": {
        "id": "1d1e1c81"
      },
      "source": [
        "_To check married and unmarried men and women_"
      ],
      "id": "1d1e1c81"
    },
    {
      "cell_type": "code",
      "metadata": {
        "id": "7501c3ef"
      },
      "source": [
        "#To find married and unmarried men\n",
        "\n",
        "filt1 = train_file['Gender'] == 'Male'\n",
        "train_file.loc[filt1,'Married'].str.contains('Yes',na=False).value_counts()\n",
        "#hence married men = 369 ; unmarried men = 133"
      ],
      "id": "7501c3ef",
      "execution_count": null,
      "outputs": []
    },
    {
      "cell_type": "code",
      "metadata": {
        "id": "74db43be"
      },
      "source": [
        "#To find married and umnarried women\n",
        "\n",
        "filt2 = train_file['Gender'] == 'Female'\n",
        "train_file.loc[filt2,'Married'].str.contains('Yes',na=False).value_counts()\n",
        "#hence married women = 32 ; unmarried women = 80"
      ],
      "id": "74db43be",
      "execution_count": null,
      "outputs": []
    },
    {
      "cell_type": "markdown",
      "metadata": {
        "id": "525cffd7"
      },
      "source": [
        "_To check graduation status of men and women with regards to marital status_"
      ],
      "id": "525cffd7"
    },
    {
      "cell_type": "code",
      "metadata": {
        "scrolled": true,
        "id": "e4a02369"
      },
      "source": [
        "grad_stat_grp = train_file.groupby(['Gender'])\n",
        "grad_men = grad_stat_grp.get_group('Male')\n",
        "grad_men"
      ],
      "id": "e4a02369",
      "execution_count": null,
      "outputs": []
    },
    {
      "cell_type": "code",
      "metadata": {
        "id": "9f0b9917"
      },
      "source": [
        "grad_men.value_counts(['Married','Education']) #graduation status of men wrt their marital status"
      ],
      "id": "9f0b9917",
      "execution_count": null,
      "outputs": []
    },
    {
      "cell_type": "code",
      "metadata": {
        "id": "e9c07dff"
      },
      "source": [
        "grad_women = grad_stat_grp.get_group('Female')\n",
        "grad_women"
      ],
      "id": "e9c07dff",
      "execution_count": null,
      "outputs": []
    },
    {
      "cell_type": "code",
      "metadata": {
        "id": "f4555cf4"
      },
      "source": [
        "grad_women.value_counts(['Married','Education']) #graduation status of women wrt marital status"
      ],
      "id": "f4555cf4",
      "execution_count": null,
      "outputs": []
    },
    {
      "cell_type": "code",
      "metadata": {
        "id": "0ac8be05"
      },
      "source": [
        "sns.countplot(train_file['Education'])"
      ],
      "id": "0ac8be05",
      "execution_count": null,
      "outputs": []
    },
    {
      "cell_type": "code",
      "metadata": {
        "id": "d8f599d2"
      },
      "source": [
        "sns.countplot(train_file['Self_Employed'])"
      ],
      "id": "d8f599d2",
      "execution_count": null,
      "outputs": []
    },
    {
      "cell_type": "code",
      "metadata": {
        "id": "9c6616c9"
      },
      "source": [
        "sns.countplot(train_file['Property_Area'])"
      ],
      "id": "9c6616c9",
      "execution_count": null,
      "outputs": []
    },
    {
      "cell_type": "code",
      "metadata": {
        "id": "b298ff2e"
      },
      "source": [
        "sns.countplot(train_file['Loan_Status'])"
      ],
      "id": "b298ff2e",
      "execution_count": null,
      "outputs": []
    },
    {
      "cell_type": "code",
      "metadata": {
        "id": "82194230"
      },
      "source": [
        "sns.countplot(train_file['Dependents'])"
      ],
      "id": "82194230",
      "execution_count": null,
      "outputs": []
    },
    {
      "cell_type": "code",
      "metadata": {
        "id": "1948d9de"
      },
      "source": [
        "#analysing numerical columns\n",
        "sns.distplot(train_file['ApplicantIncome'])"
      ],
      "id": "1948d9de",
      "execution_count": null,
      "outputs": []
    },
    {
      "cell_type": "code",
      "metadata": {
        "id": "56489359"
      },
      "source": [
        "sns.distplot(train_file['CoapplicantIncome'])"
      ],
      "id": "56489359",
      "execution_count": null,
      "outputs": []
    },
    {
      "cell_type": "code",
      "metadata": {
        "id": "ae12df32"
      },
      "source": [
        "sns.distplot(train_file['LoanAmount'])"
      ],
      "id": "ae12df32",
      "execution_count": null,
      "outputs": []
    },
    {
      "cell_type": "code",
      "metadata": {
        "id": "4f192493"
      },
      "source": [
        "train_file['LoanAmount'].nlargest()"
      ],
      "id": "4f192493",
      "execution_count": null,
      "outputs": []
    },
    {
      "cell_type": "code",
      "metadata": {
        "id": "fb71f3fc"
      },
      "source": [
        "train_file.iloc[171]\n",
        "#applicant no.171 has the highest loan amount who is a male"
      ],
      "id": "fb71f3fc",
      "execution_count": null,
      "outputs": []
    },
    {
      "cell_type": "code",
      "metadata": {
        "id": "d2f3b7eb"
      },
      "source": [
        "sns.distplot(train_file['Loan_Amount_Term'])"
      ],
      "id": "d2f3b7eb",
      "execution_count": null,
      "outputs": []
    },
    {
      "cell_type": "code",
      "metadata": {
        "id": "d7d94ed1"
      },
      "source": [
        "sns.distplot(train_file['Credit_History'])"
      ],
      "id": "d7d94ed1",
      "execution_count": null,
      "outputs": []
    },
    {
      "cell_type": "markdown",
      "metadata": {
        "id": "c552726e"
      },
      "source": [
        "# 3. Creating a new attribute and applying log transformation for better distribution"
      ],
      "id": "c552726e"
    },
    {
      "cell_type": "code",
      "metadata": {
        "id": "ed3f15d1"
      },
      "source": [
        "train_file['Total_Income'] = train_file['ApplicantIncome'] + train_file['CoapplicantIncome']\n",
        "train_file"
      ],
      "id": "ed3f15d1",
      "execution_count": null,
      "outputs": []
    },
    {
      "cell_type": "code",
      "metadata": {
        "id": "56cf9c89"
      },
      "source": [
        "#filling null values in the new column \"Total_Income\"\n",
        "train_file['Total_Income'] = train_file['Total_Income'].fillna(train_file['Total_Income'].mean())"
      ],
      "id": "56cf9c89",
      "execution_count": null,
      "outputs": []
    },
    {
      "cell_type": "code",
      "metadata": {
        "id": "2e523a33"
      },
      "source": [
        "train_file"
      ],
      "id": "2e523a33",
      "execution_count": null,
      "outputs": []
    },
    {
      "cell_type": "code",
      "metadata": {
        "id": "6cb48b6b"
      },
      "source": [
        "train_file['ApplicantIncomeLog'] = np.log(train_file['ApplicantIncome']+1)\n",
        "sns.distplot(train_file[\"ApplicantIncomeLog\"])"
      ],
      "id": "6cb48b6b",
      "execution_count": null,
      "outputs": []
    },
    {
      "cell_type": "code",
      "metadata": {
        "id": "bd41bfcf"
      },
      "source": [
        "train_file['CoapplicantIncomeLog'] = np.log(train_file['CoapplicantIncome']+1)\n",
        "sns.distplot(train_file[\"CoapplicantIncomeLog\"])"
      ],
      "id": "bd41bfcf",
      "execution_count": null,
      "outputs": []
    },
    {
      "cell_type": "code",
      "metadata": {
        "id": "31f072ec"
      },
      "source": [
        "train_file['LoanAmountLog'] = np.log(train_file['LoanAmount']+1)\n",
        "sns.distplot(train_file[\"LoanAmountLog\"])"
      ],
      "id": "31f072ec",
      "execution_count": null,
      "outputs": []
    },
    {
      "cell_type": "code",
      "metadata": {
        "id": "120f5767"
      },
      "source": [
        "train_file['Loan_Amount_Term_Log'] = np.log(train_file['Loan_Amount_Term']+1)\n",
        "sns.distplot(train_file[\"Loan_Amount_Term_Log\"])"
      ],
      "id": "120f5767",
      "execution_count": null,
      "outputs": []
    },
    {
      "cell_type": "code",
      "metadata": {
        "id": "d49ac81e"
      },
      "source": [
        "train_file['Total_Income_Log'] = np.log(train_file['Total_Income']+1)\n",
        "sns.distplot(train_file[\"Total_Income_Log\"])"
      ],
      "id": "d49ac81e",
      "execution_count": null,
      "outputs": []
    },
    {
      "cell_type": "code",
      "metadata": {
        "id": "b648234d"
      },
      "source": [
        "corr = train_file.corr()\n",
        "plt.figure(figsize=(15,10))\n",
        "sns.heatmap(corr, annot = True, cmap=\"BuGn\")"
      ],
      "id": "b648234d",
      "execution_count": null,
      "outputs": []
    },
    {
      "cell_type": "code",
      "metadata": {
        "id": "5acf9ae0"
      },
      "source": [
        "cols = ['ApplicantIncome', 'CoapplicantIncome', \"LoanAmount\", \"Loan_Amount_Term\", \"Total_Income\", 'Loan_ID', 'CoapplicantIncomeLog']\n",
        "train_file = train_file.drop(columns=cols, axis=1)\n",
        "train_file.head()\n",
        "#these above columns have been dropped because i dont deem it necessary to train the model using those as i only need\n",
        "#basic information like gender education dependents for who is most fit to be elligble to take out a loan based on their\n",
        "#income, how stable they are regarding their employment etc\n",
        "#only the log columns are used for some of the columns for the model to be trained on better distributions"
      ],
      "id": "5acf9ae0",
      "execution_count": null,
      "outputs": []
    },
    {
      "cell_type": "markdown",
      "metadata": {
        "id": "c73fd385"
      },
      "source": [
        "# 4. Encoding"
      ],
      "id": "c73fd385"
    },
    {
      "cell_type": "code",
      "metadata": {
        "id": "15889412"
      },
      "source": [
        "#here all the alphabetical answers from categorical columns have been normalized to numerics for model training\n",
        "from sklearn.preprocessing import LabelEncoder\n",
        "cols = ['Gender','Married','Education','Self_Employed','Property_Area','Loan_Status','Dependents']\n",
        "le = LabelEncoder()\n",
        "for col in cols:\n",
        "    train_file[col] = le.fit_transform(train_file[col])"
      ],
      "id": "15889412",
      "execution_count": null,
      "outputs": []
    },
    {
      "cell_type": "code",
      "metadata": {
        "scrolled": true,
        "id": "d48c057d"
      },
      "source": [
        "train_file.head()\n",
        "#Y = 1 N = 0"
      ],
      "id": "d48c057d",
      "execution_count": null,
      "outputs": []
    },
    {
      "cell_type": "code",
      "metadata": {
        "id": "12c62788"
      },
      "source": [
        "#splitting the train-test\n",
        "X = train_file.drop(columns=['Loan_Status'], axis=1)\n",
        "y = train_file['Loan_Status']"
      ],
      "id": "12c62788",
      "execution_count": null,
      "outputs": []
    },
    {
      "cell_type": "code",
      "metadata": {
        "id": "c3f28597"
      },
      "source": [
        "from sklearn.model_selection import train_test_split\n",
        "x_train, x_test, y_train, y_test = train_test_split(X, y, test_size=0.25, random_state=42)"
      ],
      "id": "c3f28597",
      "execution_count": null,
      "outputs": []
    },
    {
      "cell_type": "markdown",
      "metadata": {
        "id": "37c46494"
      },
      "source": [
        "# 5. Training the model"
      ],
      "id": "37c46494"
    },
    {
      "cell_type": "code",
      "metadata": {
        "id": "1e923e2d"
      },
      "source": [
        "from sklearn.model_selection import cross_val_score\n",
        "def classify(model, x, y):\n",
        "    x_train, x_test, y_train, y_test = train_test_split(X, y, test_size=0.25, random_state=42)\n",
        "    model.fit(x_train, y_train)\n",
        "    print(\"Accuracy is\", model.score(x_test, y_test)*100)\n",
        "    # cross validation - it is used for better validation of model\n",
        "    score = cross_val_score(model, x, y, cv=5)\n",
        "    print(\"Cross validation is\",np.mean(score)*100)"
      ],
      "id": "1e923e2d",
      "execution_count": null,
      "outputs": []
    },
    {
      "cell_type": "code",
      "metadata": {
        "id": "1de49faa"
      },
      "source": [
        "from sklearn.linear_model import LogisticRegression\n",
        "model = LogisticRegression()\n",
        "classify(model, X, y)"
      ],
      "id": "1de49faa",
      "execution_count": null,
      "outputs": []
    },
    {
      "cell_type": "code",
      "metadata": {
        "id": "6387d2a3"
      },
      "source": [
        "from sklearn.tree import DecisionTreeClassifier\n",
        "model = DecisionTreeClassifier()\n",
        "classify(model, X, y)"
      ],
      "id": "6387d2a3",
      "execution_count": null,
      "outputs": []
    },
    {
      "cell_type": "code",
      "metadata": {
        "id": "7d3d09d8"
      },
      "source": [
        "from sklearn.ensemble import RandomForestClassifier,ExtraTreesClassifier\n",
        "model = RandomForestClassifier()\n",
        "classify(model, X, y)"
      ],
      "id": "7d3d09d8",
      "execution_count": null,
      "outputs": []
    },
    {
      "cell_type": "code",
      "metadata": {
        "id": "d95f8e32"
      },
      "source": [
        "model = ExtraTreesClassifier()\n",
        "classify(model, X, y)"
      ],
      "id": "d95f8e32",
      "execution_count": null,
      "outputs": []
    },
    {
      "cell_type": "markdown",
      "metadata": {
        "id": "0d535350"
      },
      "source": [
        "# 6. Hyperparameter Tuning for choosing the ideal model"
      ],
      "id": "0d535350"
    },
    {
      "cell_type": "code",
      "metadata": {
        "id": "6a000ea7"
      },
      "source": [
        "model = RandomForestClassifier(n_estimators=100, min_samples_split=25, max_depth=7, max_features=1)\n",
        "classify(model, X, y)"
      ],
      "id": "6a000ea7",
      "execution_count": null,
      "outputs": []
    },
    {
      "cell_type": "markdown",
      "metadata": {
        "id": "d5a69ebe"
      },
      "source": [
        "# 7. Prediction summary and errors"
      ],
      "id": "d5a69ebe"
    },
    {
      "cell_type": "code",
      "metadata": {
        "id": "e4985ebd"
      },
      "source": [
        "model = RandomForestClassifier()\n",
        "model.fit(x_train, y_train)"
      ],
      "id": "e4985ebd",
      "execution_count": null,
      "outputs": []
    },
    {
      "cell_type": "code",
      "metadata": {
        "id": "b0ded192"
      },
      "source": [
        "from sklearn.metrics import confusion_matrix\n",
        "y_pred = model.predict(x_test)\n",
        "cm = confusion_matrix(y_test, y_pred)\n",
        "cm\n",
        "print(y_pred)"
      ],
      "id": "b0ded192",
      "execution_count": null,
      "outputs": []
    },
    {
      "cell_type": "code",
      "metadata": {
        "id": "e26b218d"
      },
      "source": [
        "sns.heatmap(cm, annot=True)"
      ],
      "id": "e26b218d",
      "execution_count": null,
      "outputs": []
    },
    {
      "cell_type": "code",
      "metadata": {
        "id": "6244d7fc"
      },
      "source": [
        "with open('P1.pkl','wb') as f:\n",
        "    pickle.dump(model,f)"
      ],
      "id": "6244d7fc",
      "execution_count": null,
      "outputs": []
    },
    {
      "cell_type": "code",
      "metadata": {
        "id": "0804ed59"
      },
      "source": [
        "with open('P1.pkl','rb') as f:\n",
        "    pickle.load(f)"
      ],
      "id": "0804ed59",
      "execution_count": null,
      "outputs": []
    },
    {
      "cell_type": "code",
      "metadata": {
        "id": "1ea87749"
      },
      "source": [],
      "id": "1ea87749",
      "execution_count": null,
      "outputs": []
    }
  ]
}